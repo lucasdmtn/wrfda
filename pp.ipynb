{
 "cells": [
  {
   "cell_type": "code",
   "execution_count": 1,
   "metadata": {},
   "outputs": [],
   "source": [
    "import pandas as pd\n",
    "import numpy as np\n",
    "import matplotlib.pyplot as plt\n",
    "import cartopy.feature as cf\n",
    "import cartopy.crs as ccrs\n",
    "import datetime as dt\n",
    "from pynmet import inmet"
   ]
  },
  {
   "cell_type": "code",
   "execution_count": 2,
   "metadata": {},
   "outputs": [],
   "source": [
    "est = pd.read_csv('/home/lucas/estacoes.csv')"
   ]
  },
  {
   "cell_type": "code",
   "execution_count": 33,
   "metadata": {},
   "outputs": [
    {
     "name": "stderr",
     "output_type": "stream",
     "text": [
      "/home/lucas/anaconda3/lib/python3.7/site-packages/ipykernel_launcher.py:3: MatplotlibDeprecationWarning: Adding an axes using the same arguments as a previous axes currently reuses the earlier instance.  In a future version, a new instance will always be created and returned.  Meanwhile, this warning can be suppressed, and the future behavior ensured, by passing a unique label to each axes instance.\n",
      "  This is separate from the ipykernel package so we can avoid doing imports until\n"
     ]
    },
    {
     "data": {
      "image/png": "[encoded data removed]",
      "text/plain": [
       "<Figure size 432x288 with 1 Axes>"
      ]
     },
     "metadata": {
      "needs_background": "light"
     },
     "output_type": "display_data"
    }
   ],
   "source": [
    "est = est[(est.lat<=-15)&(est.lat>=-50)]\n",
    "for i,j in zip(est.lat, est.lon):\n",
    "    ax = plt.axes(projection=ccrs.PlateCarree())\n",
    "    ax.coastlines()\n",
    "    ax.plot(j,i,'bo')"
   ]
  },
  {
   "cell_type": "code",
   "execution_count": 4,
   "metadata": {},
   "outputs": [],
   "source": [
    "date1 = dt.datetime(2020,6,30,0)\n",
    "date2 = dt.datetime(2020,6,30,12)\n",
    "dates = [date1,date2]"
   ]
  },
  {
   "cell_type": "code",
   "execution_count": 35,
   "metadata": {
    "collapsed": true
   },
   "outputs": [
    {
     "name": "stdout",
     "output_type": "stream",
     "text": [
      "Empty DataFrame\n",
      "Columns: [Temperatura, Temperatura_max, Temperatura_min, Umidade, Umidade_max, Umidade_min, Ponto_orvalho, Ponto_orvalho_max, Ponto_orvalho_min, Pressao, Pressao_max, Pressao_min, Vento_velocidade, Vento_direcao, Vento_rajada, Radiacao, Precipitacao]\n",
      "Index: []\n",
      "Empty DataFrame\n",
      "Columns: [Temperatura, Temperatura_max, Temperatura_min, Umidade, Umidade_max, Umidade_min, Ponto_orvalho, Ponto_orvalho_max, Ponto_orvalho_min, Pressao, Pressao_max, Pressao_min, Vento_velocidade, Vento_direcao, Vento_rajada, Radiacao, Precipitacao]\n",
      "Index: []\n",
      "Empty DataFrame\n",
      "Columns: [Temperatura, Temperatura_max, Temperatura_min, Umidade, Umidade_max, Umidade_min, Ponto_orvalho, Ponto_orvalho_max, Ponto_orvalho_min, Pressao, Pressao_max, Pressao_min, Vento_velocidade, Vento_direcao, Vento_rajada, Radiacao, Precipitacao]\n",
      "Index: []\n",
      "Empty DataFrame\n",
      "Columns: [Temperatura, Temperatura_max, Temperatura_min, Umidade, Umidade_max, Umidade_min, Ponto_orvalho, Ponto_orvalho_max, Ponto_orvalho_min, Pressao, Pressao_max, Pressao_min, Vento_velocidade, Vento_direcao, Vento_rajada, Radiacao, Precipitacao]\n",
      "Index: []\n",
      "Empty DataFrame\n",
      "Columns: [Temperatura, Temperatura_max, Temperatura_min, Umidade, Umidade_max, Umidade_min, Ponto_orvalho, Ponto_orvalho_max, Ponto_orvalho_min, Pressao, Pressao_max, Pressao_min, Vento_velocidade, Vento_direcao, Vento_rajada, Radiacao, Precipitacao]\n",
      "Index: []\n",
      "Empty DataFrame\n",
      "Columns: [Temperatura, Temperatura_max, Temperatura_min, Umidade, Umidade_max, Umidade_min, Ponto_orvalho, Ponto_orvalho_max, Ponto_orvalho_min, Pressao, Pressao_max, Pressao_min, Vento_velocidade, Vento_direcao, Vento_rajada, Radiacao, Precipitacao]\n",
      "Index: []\n",
      "Empty DataFrame\n",
      "Columns: [Temperatura, Temperatura_max, Temperatura_min, Umidade, Umidade_max, Umidade_min, Ponto_orvalho, Ponto_orvalho_max, Ponto_orvalho_min, Pressao, Pressao_max, Pressao_min, Vento_velocidade, Vento_direcao, Vento_rajada, Radiacao, Precipitacao]\n",
      "Index: []\n",
      "Empty DataFrame\n",
      "Columns: [Temperatura, Temperatura_max, Temperatura_min, Umidade, Umidade_max, Umidade_min, Ponto_orvalho, Ponto_orvalho_max, Ponto_orvalho_min, Pressao, Pressao_max, Pressao_min, Vento_velocidade, Vento_direcao, Vento_rajada, Radiacao, Precipitacao]\n",
      "Index: []\n",
      "Empty DataFrame\n",
      "Columns: [Temperatura, Temperatura_max, Temperatura_min, Umidade, Umidade_max, Umidade_min, Ponto_orvalho, Ponto_orvalho_max, Ponto_orvalho_min, Pressao, Pressao_max, Pressao_min, Vento_velocidade, Vento_direcao, Vento_rajada, Radiacao, Precipitacao]\n",
      "Index: []\n",
      "Empty DataFrame\n",
      "Columns: [Temperatura, Temperatura_max, Temperatura_min, Umidade, Umidade_max, Umidade_min, Ponto_orvalho, Ponto_orvalho_max, Ponto_orvalho_min, Pressao, Pressao_max, Pressao_min, Vento_velocidade, Vento_direcao, Vento_rajada, Radiacao, Precipitacao]\n",
      "Index: []\n",
      "Empty DataFrame\n",
      "Columns: [Temperatura, Temperatura_max, Temperatura_min, Umidade, Umidade_max, Umidade_min, Ponto_orvalho, Ponto_orvalho_max, Ponto_orvalho_min, Pressao, Pressao_max, Pressao_min, Vento_velocidade, Vento_direcao, Vento_rajada, Radiacao, Precipitacao]\n",
      "Index: []\n"
     ]
    },
    {
     "ename": "AttributeError",
     "evalue": "'str' object has no attribute 'date'",
     "output_type": "error",
     "traceback": [
      "\u001b[0;31m---------------------------------------------------------------------------\u001b[0m",
      "\u001b[0;31mAttributeError\u001b[0m                            Traceback (most recent call last)",
      "\u001b[0;32m<ipython-input-35-de575e344fe2>\u001b[0m in \u001b[0;36m<module>\u001b[0;34m\u001b[0m\n\u001b[1;32m      1\u001b[0m \u001b[0;32mfor\u001b[0m \u001b[0mi\u001b[0m\u001b[0;34m,\u001b[0m \u001b[0mcodigo\u001b[0m \u001b[0;32min\u001b[0m \u001b[0menumerate\u001b[0m\u001b[0;34m(\u001b[0m\u001b[0mest\u001b[0m\u001b[0;34m.\u001b[0m\u001b[0mcodigo\u001b[0m\u001b[0;34m.\u001b[0m\u001b[0mvalues\u001b[0m\u001b[0;34m)\u001b[0m\u001b[0;34m:\u001b[0m\u001b[0;34m\u001b[0m\u001b[0;34m\u001b[0m\u001b[0m\n\u001b[0;32m----> 2\u001b[0;31m     \u001b[0mprint\u001b[0m\u001b[0;34m(\u001b[0m\u001b[0minmet\u001b[0m\u001b[0;34m(\u001b[0m\u001b[0mcodigo\u001b[0m\u001b[0;34m)\u001b[0m\u001b[0;34m)\u001b[0m\u001b[0;34m\u001b[0m\u001b[0;34m\u001b[0m\u001b[0m\n\u001b[0m",
      "\u001b[0;32m~/anaconda3/lib/python3.7/site-packages/pynmet/inmet.py\u001b[0m in \u001b[0;36minmet\u001b[0;34m(code, local)\u001b[0m\n\u001b[1;32m     36\u001b[0m \u001b[0;32mdef\u001b[0m \u001b[0minmet\u001b[0m\u001b[0;34m(\u001b[0m\u001b[0mcode\u001b[0m\u001b[0;34m,\u001b[0m \u001b[0mlocal\u001b[0m\u001b[0;34m=\u001b[0m\u001b[0;32mFalse\u001b[0m\u001b[0;34m)\u001b[0m\u001b[0;34m:\u001b[0m\u001b[0;34m\u001b[0m\u001b[0;34m\u001b[0m\u001b[0m\n\u001b[1;32m     37\u001b[0m     \u001b[0;32mif\u001b[0m \u001b[0mcode\u001b[0m \u001b[0;32min\u001b[0m \u001b[0msites\u001b[0m\u001b[0;34m.\u001b[0m\u001b[0mindex\u001b[0m\u001b[0;34m.\u001b[0m\u001b[0mvalues\u001b[0m\u001b[0;34m:\u001b[0m\u001b[0;34m\u001b[0m\u001b[0;34m\u001b[0m\u001b[0m\n\u001b[0;32m---> 38\u001b[0;31m         \u001b[0mdf\u001b[0m \u001b[0;34m=\u001b[0m \u001b[0mget_data\u001b[0m\u001b[0;34m(\u001b[0m\u001b[0mcode\u001b[0m\u001b[0;34m,\u001b[0m \u001b[0mlocal\u001b[0m\u001b[0;34m)\u001b[0m\u001b[0;34m\u001b[0m\u001b[0;34m\u001b[0m\u001b[0m\n\u001b[0m\u001b[1;32m     39\u001b[0m         \u001b[0mdf\u001b[0m\u001b[0;34m.\u001b[0m\u001b[0mcode\u001b[0m \u001b[0;34m=\u001b[0m \u001b[0mcode\u001b[0m\u001b[0;34m\u001b[0m\u001b[0;34m\u001b[0m\u001b[0m\n\u001b[1;32m     40\u001b[0m         \u001b[0mdf\u001b[0m\u001b[0;34m.\u001b[0m\u001b[0mcod_OMM\u001b[0m \u001b[0;34m=\u001b[0m \u001b[0msites\u001b[0m\u001b[0;34m.\u001b[0m\u001b[0mloc\u001b[0m\u001b[0;34m[\u001b[0m\u001b[0mcode\u001b[0m\u001b[0;34m]\u001b[0m\u001b[0;34m.\u001b[0m\u001b[0mcod_OMM\u001b[0m\u001b[0;34m\u001b[0m\u001b[0;34m\u001b[0m\u001b[0m\n",
      "\u001b[0;32m~/anaconda3/lib/python3.7/site-packages/pynmet/getdata.py\u001b[0m in \u001b[0;36mget_data\u001b[0;34m(code, local, force)\u001b[0m\n\u001b[1;32m    240\u001b[0m \u001b[0;34m\u001b[0m\u001b[0m\n\u001b[1;32m    241\u001b[0m     \u001b[0;32mif\u001b[0m \u001b[0;32mnot\u001b[0m \u001b[0mlocal\u001b[0m\u001b[0;34m:\u001b[0m\u001b[0;34m\u001b[0m\u001b[0;34m\u001b[0m\u001b[0m\n\u001b[0;32m--> 242\u001b[0;31m         \u001b[0mupdate_db\u001b[0m\u001b[0;34m(\u001b[0m\u001b[0mcode\u001b[0m\u001b[0;34m,\u001b[0m \u001b[0mengine\u001b[0m\u001b[0;34m,\u001b[0m \u001b[0mforce\u001b[0m\u001b[0;34m)\u001b[0m\u001b[0;34m\u001b[0m\u001b[0;34m\u001b[0m\u001b[0m\n\u001b[0m\u001b[1;32m    243\u001b[0m \u001b[0;34m\u001b[0m\u001b[0m\n\u001b[1;32m    244\u001b[0m     \u001b[0;32mreturn\u001b[0m \u001b[0mread_db\u001b[0m\u001b[0;34m(\u001b[0m\u001b[0mcode\u001b[0m\u001b[0;34m,\u001b[0m \u001b[0mengine\u001b[0m\u001b[0;34m)\u001b[0m\u001b[0;34m\u001b[0m\u001b[0;34m\u001b[0m\u001b[0m\n",
      "\u001b[0;32m~/anaconda3/lib/python3.7/site-packages/pynmet/getdata.py\u001b[0m in \u001b[0;36mupdate_db\u001b[0;34m(code, engine, force)\u001b[0m\n\u001b[1;32m    168\u001b[0m         \u001b[0;32melse\u001b[0m\u001b[0;34m:\u001b[0m\u001b[0;34m\u001b[0m\u001b[0;34m\u001b[0m\u001b[0m\n\u001b[1;32m    169\u001b[0m             \u001b[0mdia_u\u001b[0m \u001b[0;34m=\u001b[0m \u001b[0mdb\u001b[0m\u001b[0;34m.\u001b[0m\u001b[0mindex\u001b[0m\u001b[0;34m.\u001b[0m\u001b[0mmax\u001b[0m\u001b[0;34m(\u001b[0m\u001b[0;34m)\u001b[0m\u001b[0;34m\u001b[0m\u001b[0;34m\u001b[0m\u001b[0m\n\u001b[0;32m--> 170\u001b[0;31m             \u001b[0;32mif\u001b[0m \u001b[0mdia_u\u001b[0m\u001b[0;34m.\u001b[0m\u001b[0mdate\u001b[0m\u001b[0;34m(\u001b[0m\u001b[0;34m)\u001b[0m \u001b[0;34m<\u001b[0m \u001b[0;34m(\u001b[0m\u001b[0mu_ano\u001b[0m\u001b[0;34m)\u001b[0m\u001b[0;34m:\u001b[0m\u001b[0;34m\u001b[0m\u001b[0;34m\u001b[0m\u001b[0m\n\u001b[0m\u001b[1;32m    171\u001b[0m                 \u001b[0mdia_i\u001b[0m \u001b[0;34m=\u001b[0m \u001b[0;34m(\u001b[0m\u001b[0mu_ano\u001b[0m\u001b[0;34m)\u001b[0m\u001b[0;34m.\u001b[0m\u001b[0mstrftime\u001b[0m\u001b[0;34m(\u001b[0m\u001b[0mfmt\u001b[0m\u001b[0;34m)\u001b[0m\u001b[0;34m\u001b[0m\u001b[0;34m\u001b[0m\u001b[0m\n\u001b[1;32m    172\u001b[0m             \u001b[0;32melse\u001b[0m\u001b[0;34m:\u001b[0m\u001b[0;34m\u001b[0m\u001b[0;34m\u001b[0m\u001b[0m\n",
      "\u001b[0;31mAttributeError\u001b[0m: 'str' object has no attribute 'date'"
     ]
    }
   ],
   "source": [
    "for i, codigo in enumerate(est.codigo.values):\n",
    "    print(inmet(codigo))"
   ]
  },
  {
   "cell_type": "code",
   "execution_count": null,
   "metadata": {},
   "outputs": [],
   "source": []
  },
  {
   "cell_type": "code",
   "execution_count": 36,
   "metadata": {},
   "outputs": [
    {
     "data": {
      "application/vnd.jupyter.widget-view+json": {
       "model_id": "8b3a1a1df1ea4235b7b85754f0214f47",
       "version_major": 2,
       "version_minor": 0
      },
      "text/plain": [
       "HBox(children=(FloatProgress(value=0.0, max=2.0), HTML(value='')))"
      ]
     },
     "metadata": {},
     "output_type": "display_data"
    },
    {
     "name": "stdout",
     "output_type": "stream",
     "text": [
      "-32.07878 -52.167738 A802 Rio Grande FM-12 SYNOP HOURLY_PWV.LLH 1161 0 0 0 0 0 F F F 0 36 20200630000000 -888888.00000 0 -888888.00000 0 -888888.00000 0 -888888.00000 0 -888888.00000 0 -888888.00000 0 -888888.00000 0 -888888.00000 0 -888888.00000 0 -888888.00000 0 -888888.00000 0 -888888.00000 0 -888888.00000 0\n",
      "\n",
      "1016.1 0 5 0 286.84999999999997 0 284.95 0  2.2 0 90.0 0 -888888.00000 0 -888888.00000 0 88.0 0-888888.00000 0\n",
      "\n",
      "-29.72496 -53.720468999999994 A803 Santa Maria FM-12 SYNOP HOURLY_PWV.LLH 1161 0 0 0 0 0 F F F 0 36 20200630000000 -888888.00000 0 -888888.00000 0 -888888.00000 0 -888888.00000 0 -888888.00000 0 -888888.00000 0 -888888.00000 0 -888888.00000 0 -888888.00000 0 -888888.00000 0 -888888.00000 0 -888888.00000 0 -888888.00000 0\n",
      "\n",
      "999.7 0 103 0 284.25 0 283.84999999999997 0  2.6 0 113.0 0 -888888.00000 0 -888888.00000 0 97.0 0-888888.00000 0\n",
      "\n",
      "-28.126991999999998 -49.47961 A845 Morro da Igreja (Bom Jardim da Serra) FM-12 SYNOP HOURLY_PWV.LLH 1161 0 0 0 0 0 F F F 0 36 20200630000000 -888888.00000 0 -888888.00000 0 -888888.00000 0 -888888.00000 0 -888888.00000 0 -888888.00000 0 -888888.00000 0 -888888.00000 0 -888888.00000 0 -888888.00000 0 -888888.00000 0 -888888.00000 0 -888888.00000 0\n",
      "\n",
      "818.6 0 179 0 280.15 0 280.15 0  16.0 0 351.0 0 -888888.00000 0 -888888.00000 0 100.0 0-888888.00000 0\n",
      "\n",
      "-31.802501 -52.407222 A887 Capão do Leão (Pelotas) FM-12 SYNOP HOURLY_PWV.LLH 1161 0 0 0 0 0 F F F 0 36 20200630000000 -888888.00000 0 -888888.00000 0 -888888.00000 0 -888888.00000 0 -888888.00000 0 -888888.00000 0 -888888.00000 0 -888888.00000 0 -888888.00000 0 -888888.00000 0 -888888.00000 0 -888888.00000 0 -888888.00000 0\n",
      "\n",
      "1014.8 0 13 0 286.65 0 nan 0  2.7 0 83.0 0 -888888.00000 0 -888888.00000 0 nan 0-888888.00000 0\n",
      "\n",
      "-32.07878 -52.167738 A802 Rio Grande FM-12 SYNOP HOURLY_PWV.LLH 1161 0 0 0 0 0 F F F 0 36 20200630120000 -888888.00000 0 -888888.00000 0 -888888.00000 0 -888888.00000 0 -888888.00000 0 -888888.00000 0 -888888.00000 0 -888888.00000 0 -888888.00000 0 -888888.00000 0 -888888.00000 0 -888888.00000 0 -888888.00000 0\n",
      "\n",
      "1003.8 0 5 0 287.84999999999997 0 286.54999999999995 0  3.2 0 54.0 0 -888888.00000 0 -888888.00000 0 92.0 0-888888.00000 0\n",
      "\n",
      "-29.72496 -53.720468999999994 A803 Santa Maria FM-12 SYNOP HOURLY_PWV.LLH 1161 0 0 0 0 0 F F F 0 36 20200630120000 -888888.00000 0 -888888.00000 0 -888888.00000 0 -888888.00000 0 -888888.00000 0 -888888.00000 0 -888888.00000 0 -888888.00000 0 -888888.00000 0 -888888.00000 0 -888888.00000 0 -888888.00000 0 -888888.00000 0\n",
      "\n",
      "992.6 0 103 0 285.54999999999995 0 285.34999999999997 0  1.7 0 76.0 0 -888888.00000 0 -888888.00000 0 99.0 0-888888.00000 0\n",
      "\n",
      "-28.126991999999998 -49.47961 A845 Morro da Igreja (Bom Jardim da Serra) FM-12 SYNOP HOURLY_PWV.LLH 1161 0 0 0 0 0 F F F 0 36 20200630120000 -888888.00000 0 -888888.00000 0 -888888.00000 0 -888888.00000 0 -888888.00000 0 -888888.00000 0 -888888.00000 0 -888888.00000 0 -888888.00000 0 -888888.00000 0 -888888.00000 0 -888888.00000 0 -888888.00000 0\n",
      "\n",
      "812.7 0 179 0 282.34999999999997 0 282.34999999999997 0  17.7 0 323.0 0 -888888.00000 0 -888888.00000 0 100.0 0-888888.00000 0\n",
      "\n",
      "-31.802501 -52.407222 A887 Capão do Leão (Pelotas) FM-12 SYNOP HOURLY_PWV.LLH 1161 0 0 0 0 0 F F F 0 36 20200630120000 -888888.00000 0 -888888.00000 0 -888888.00000 0 -888888.00000 0 -888888.00000 0 -888888.00000 0 -888888.00000 0 -888888.00000 0 -888888.00000 0 -888888.00000 0 -888888.00000 0 -888888.00000 0 -888888.00000 0\n",
      "\n",
      "1002.8 0 13 0 287.25 0 nan 0  2.7 0 67.0 0 -888888.00000 0 -888888.00000 0 nan 0-888888.00000 0\n",
      "\n",
      "\n"
     ]
    }
   ],
   "source": [
    "from tqdm.notebook import tqdm\n",
    "for date in tqdm(dates):\n",
    "    ano, mes, dia, hora, minut, sec = date.year, date.month, date.day, date.hour, date.minute, date.second\n",
    "    formato_data = '{:04}{:02}{:02}{:02d}{:02d}{:02d}'.format(ano, mes, dia, hora, minut, sec)\n",
    "    \n",
    "    for i, codigo in enumerate(est.codigo.values):\n",
    "\n",
    "        \n",
    "        try:\n",
    "            d = inmet(codigo)\n",
    "            c1 = d.iloc[:, [0,3,6,9,12,13,16]].loc['2020-06-30 {:02d}:00:00'.format(hora)]        \n",
    "            pressao = c1['Pressao']\n",
    "            tk = c1['Temperatura'] + 273.15\n",
    "            tdk = c1['Ponto_orvalho'] + 273.15\n",
    "            wspd = c1['Vento_velocidade']\n",
    "            wdir = c1['Vento_direcao']\n",
    "            umid = c1['Umidade']\n",
    "            precipit = c1['Precipitacao']\n",
    "\n",
    "\n",
    "            lat = est.lat.values[i]\n",
    "            lon = est.lon.values[i]\n",
    "            codigo = est.codigo.values[i]\n",
    "            nome = est.nome.values[i]\n",
    "            alt = est.alt.values[i]\n",
    "            print('{} {} {} {} FM-12 SYNOP HOURLY_PWV.LLH {} 0 0 0 0 0 F F F 0 36 {} -888888.00000 0 -888888.00000 0 -888888.00000 0 -888888.00000 0 -888888.00000 0 -888888.00000 0 -888888.00000 0 -888888.00000 0 -888888.00000 0 -888888.00000 0 -888888.00000 0 -888888.00000 0 -888888.00000 0\\n'.format(lat,lon,codigo,nome,elevation,formato_data))\n",
    "            print('{} 0 {} 0 {} 0 {} 0  {} 0 {} 0 -888888.00000 0 -888888.00000 0 {} 0-888888.00000 0\\n'.format(pressao,alt,tk,tdk,wspd,wdir,umid))\n",
    "\n",
    "        except:\n",
    "            pass"
   ]
  },
  {
   "cell_type": "code",
   "execution_count": null,
   "metadata": {},
   "outputs": [],
   "source": []
  }
 ],
 "metadata": {
  "kernelspec": {
   "display_name": "Python 3",
   "language": "python",
   "name": "python3"
  },
  "language_info": {
   "codemirror_mode": {
    "name": "ipython",
    "version": 3
   },
   "file_extension": ".py",
   "mimetype": "text/x-python",
   "name": "python",
   "nbconvert_exporter": "python",
   "pygments_lexer": "ipython3",
   "version": "3.7.6"
  }
 },
 "nbformat": 4,
 "nbformat_minor": 4
}
