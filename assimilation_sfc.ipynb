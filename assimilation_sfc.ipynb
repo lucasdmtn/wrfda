{
 "cells": [
  {
   "cell_type": "code",
   "execution_count": 1,
   "metadata": {},
   "outputs": [],
   "source": [
    "import pandas as pd\n",
    "from tqdm.notebook import tqdm\n",
    "\n",
    "import numpy as np\n",
    "import matplotlib.pyplot as plt\n",
    "\n",
    "import datetime as dt\n",
    "\n",
    "import glob"
   ]
  },
  {
   "cell_type": "code",
   "execution_count": 2,
   "metadata": {},
   "outputs": [],
   "source": [
    "est = pd.read_csv('/home/lucas/estacoes.csv')"
   ]
  },
  {
   "cell_type": "code",
   "execution_count": 3,
   "metadata": {},
   "outputs": [],
   "source": [
    "date1 = dt.datetime(2020,6,30,0)\n",
    "date2 = dt.datetime(2020,6,30,12)\n",
    "dates = [date1,date2]"
   ]
  },
  {
   "cell_type": "code",
   "execution_count": 7,
   "metadata": {},
   "outputs": [
    {
     "data": {
      "application/vnd.jupyter.widget-view+json": {
       "model_id": "3e8dbf80b4cf41a9867353b2358347db",
       "version_major": 2,
       "version_minor": 0
      },
      "text/plain": [
       "HBox(children=(FloatProgress(value=0.0, max=2.0), HTML(value='')))"
      ]
     },
     "metadata": {},
     "output_type": "display_data"
    },
    {
     "data": {
      "application/vnd.jupyter.widget-view+json": {
       "model_id": "6d0e3a61ecdc45778f5b31274aebab33",
       "version_major": 2,
       "version_minor": 0
      },
      "text/plain": [
       "HBox(children=(FloatProgress(value=0.0, max=80.0), HTML(value='')))"
      ]
     },
     "metadata": {},
     "output_type": "display_data"
    },
    {
     "name": "stdout",
     "output_type": "stream",
     "text": [
      "\n",
      "ok\n",
      "ok\n",
      "ok\n",
      "ok\n",
      "ok\n",
      "ok\n",
      "ok\n",
      "ok\n",
      "ok\n",
      "ok\n",
      "ok\n",
      "ok\n",
      "ok\n",
      "ok\n",
      "ok\n",
      "ok\n",
      "ok\n",
      "ok\n",
      "ok\n",
      "ok\n",
      "ok\n",
      "ok\n",
      "ok\n",
      "ok\n",
      "ok\n",
      "ok\n",
      "ok\n",
      "ok\n",
      "ok\n",
      "ok\n",
      "ok\n",
      "ok\n",
      "ok\n",
      "ok\n",
      "ok\n",
      "ok\n",
      "ok\n",
      "ok\n",
      "ok\n",
      "ok\n",
      "ok\n",
      "ok\n",
      "ok\n",
      "ok\n",
      "ok\n",
      "ok\n",
      "ok\n",
      "ok\n",
      "ok\n",
      "ok\n",
      "ok\n",
      "ok\n",
      "ok\n",
      "ok\n",
      "ok\n",
      "ok\n",
      "ok\n",
      "ok\n",
      "ok\n",
      "ok\n",
      "ok\n",
      "ok\n",
      "ok\n",
      "ok\n",
      "ok\n",
      "ok\n",
      "ok\n",
      "ok\n",
      "ok\n",
      "ok\n",
      "ok\n",
      "ok\n",
      "ok\n",
      "ok\n",
      "ok\n",
      "ok\n",
      "ok\n",
      "ok\n",
      "ok\n",
      "ok\n"
     ]
    },
    {
     "data": {
      "application/vnd.jupyter.widget-view+json": {
       "model_id": "795690a9825e417ea6a08ef9e0e05c2f",
       "version_major": 2,
       "version_minor": 0
      },
      "text/plain": [
       "HBox(children=(FloatProgress(value=0.0, max=77.0), HTML(value='')))"
      ]
     },
     "metadata": {},
     "output_type": "display_data"
    },
    {
     "name": "stdout",
     "output_type": "stream",
     "text": [
      "\n",
      "ok\n",
      "ok\n",
      "ok\n",
      "ok\n",
      "ok\n",
      "ok\n",
      "ok\n",
      "ok\n",
      "ok\n",
      "ok\n",
      "ok\n",
      "ok\n",
      "ok\n",
      "ok\n",
      "ok\n",
      "ok\n",
      "ok\n",
      "ok\n",
      "ok\n",
      "ok\n",
      "ok\n",
      "ok\n",
      "ok\n",
      "ok\n",
      "ok\n",
      "ok\n",
      "ok\n",
      "ok\n",
      "ok\n",
      "ok\n",
      "ok\n",
      "ok\n",
      "ok\n",
      "ok\n",
      "ok\n",
      "ok\n",
      "ok\n",
      "ok\n",
      "ok\n",
      "ok\n",
      "ok\n",
      "ok\n",
      "ok\n",
      "ok\n",
      "ok\n",
      "ok\n",
      "ok\n",
      "ok\n",
      "ok\n",
      "ok\n",
      "ok\n",
      "ok\n",
      "ok\n",
      "ok\n",
      "ok\n",
      "ok\n",
      "ok\n",
      "ok\n",
      "ok\n",
      "ok\n",
      "ok\n",
      "ok\n",
      "ok\n",
      "ok\n",
      "ok\n",
      "ok\n",
      "ok\n",
      "ok\n",
      "ok\n",
      "ok\n",
      "ok\n",
      "ok\n",
      "ok\n",
      "ok\n",
      "ok\n",
      "ok\n",
      "ok\n",
      "\n"
     ]
    }
   ],
   "source": [
    "with open('formated.dat','w') as f:\n",
    "\n",
    "    for date in tqdm(dates):\n",
    "        ano, mes, dia, hora, minut, sec = date.year, date.month, date.day, date.hour, date.minute, date.second\n",
    "        formato_data = '{:04}{:02}{:02}{:02d}{:02d}{:02d}'.format(ano, mes, dia, hora, minut, sec)\n",
    "        raw = pd.read_csv('/home/lucas/{:02d}.txt'.format(hora))\n",
    "        raw_ = raw.iloc[:,1:]\n",
    "        sh = raw_.shape\n",
    "        for i in tqdm(range(sh[0])):\n",
    "            for j in range(1,sh[1]):\n",
    "                try:\n",
    "                    float(raw_.iloc[i,j])\n",
    "                except:\n",
    "                    raw_.iloc[i,j] = '-888888.00000'\n",
    "\n",
    "\n",
    "        for i, cod in enumerate(raw.est):\n",
    "\n",
    "\n",
    "            d = raw_[raw_.est==cod]\n",
    "            pressao = d['pressao'].values\n",
    "            tk = d['temp'].astype('float').values + 273.15\n",
    "            tdk = d['pto_orvalho_inst'].astype('float').values + 273.15\n",
    "            wspd = d['vento_vel'].astype('float').values\n",
    "            wdir = d['vento_direcao'].astype('float').values\n",
    "            umid = d['umid_inst'].astype('float').values\n",
    "            precipit = d['precipitacao'].astype('float').values\n",
    "\n",
    "\n",
    "            d2 = est[est.codigo==cod]\n",
    "            if d2.shape[0]==0:\n",
    "                print('not ok')\n",
    "                pass\n",
    "            else:\n",
    "                print('ok')\n",
    "\n",
    "                lat = d2.lat.values\n",
    "                lon = d2.lon.values\n",
    "                nome = d2.nome.values\n",
    "                alt = d2.alt.values\n",
    "                codigo = d2.codigo.values\n",
    "\n",
    "                f.write('{:>20.5f}{:>20.5f} {} {} FM-12 SYNOP HOURLY_PWV.LLH {:>20.5f}{:>10}{:>10}{:>10}{:>10}{:>10} F F F {:>10} 36 {} -888888.00000{:>10} -888888.00000{:>10}-888888.00000{:>10}-888888.00000{:>10}-888888.00000{:>10}-888888.00000{:>10}-888888.00000{:>10}-888888.00000{:>10}-888888.00000{:>10}-888888.00000{:>10}-888888.00000{:>10}-888888.00000{:>10}-888888.00000{:>10}\\n'.format(lat[0],lon[0],codigo[0],nome[0],alt[0],'0','0',\n",
    "                    '0','0','0','0',formato_data,'0','0','0','0','0','0','0','0','0','0','0','0','0'))\n",
    "                f.write(('{:>13.5f} {:>7} {:>13.5f} {:>7} {:>13.5f} {:>7} {:>13.5f} {:>7}  {:>13.5f} {:>7} {:>13.5f} {:>7} -888888.00000 {:>7} -888888.00000 {:>7} {:>13.5f} {:>7}-888888.00000 {:>7}\\n'.format(pressao[0],'0',alt[0],'0',tk[0],'0',tdk[0],'0',float(wspd[0]),'0',float(wdir[0]),'0','0','0',umid[0],'0','0')))\n",
    "                f.write('-777777.00000      0-777777.00000      0-888888.00000      0-888888.00000      0-888888.00000      0-888888.00000      0-888888.00000      0-888888.00000      0-888888.00000      0-888888.00000      0\\n')\n",
    "                f.write(' 39      0      0')"
   ]
  },
  {
   "cell_type": "code",
   "execution_count": 5,
   "metadata": {},
   "outputs": [
    {
     "data": {
      "text/plain": [
       "array(['Araranguá'], dtype=object)"
      ]
     },
     "execution_count": 5,
     "metadata": {},
     "output_type": "execute_result"
    }
   ],
   "source": [
    "nome"
   ]
  },
  {
   "cell_type": "code",
   "execution_count": null,
   "metadata": {},
   "outputs": [],
   "source": []
  }
 ],
 "metadata": {
  "kernelspec": {
   "display_name": "Python 3",
   "language": "python",
   "name": "python3"
  },
  "language_info": {
   "codemirror_mode": {
    "name": "ipython",
    "version": 3
   },
   "file_extension": ".py",
   "mimetype": "text/x-python",
   "name": "python",
   "nbconvert_exporter": "python",
   "pygments_lexer": "ipython3",
   "version": "3.7.6"
  }
 },
 "nbformat": 4,
 "nbformat_minor": 4
}
